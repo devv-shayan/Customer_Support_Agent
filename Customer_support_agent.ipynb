{
  "nbformat": 4,
  "nbformat_minor": 0,
  "metadata": {
    "colab": {
      "provenance": [],
      "authorship_tag": "ABX9TyPZqTXAXd1vo37bGuPr8/7B",
      "include_colab_link": true
    },
    "kernelspec": {
      "name": "python3",
      "display_name": "Python 3"
    },
    "language_info": {
      "name": "python"
    }
  },
  "cells": [
    {
      "cell_type": "markdown",
      "source": [
        "# **1: Install Required Libraries**\n",
        "Install the necessary Python packages before running the workflow."
      ],
      "metadata": {
        "id": "QsYbw-lB27zu"
      }
    },
    {
      "cell_type": "code",
      "source": [
        "!pip install langgraph\n",
        "!pip install langchain\n",
        "!pip install langchain-google-genai\n",
        "!pip install python-dotenv"
      ],
      "metadata": {
        "collapsed": true,
        "id": "tZq5cZ-s4kMF"
      },
      "execution_count": null,
      "outputs": []
    },
    {
      "cell_type": "markdown",
      "source": [
        "# **2: Import Libraries**\n",
        "Import all the necessary modules and libraries required for this project."
      ],
      "metadata": {
        "id": "LW4-5gcA3mLO"
      }
    },
    {
      "cell_type": "code",
      "execution_count": 2,
      "metadata": {
        "id": "xaNdtLnVe_59"
      },
      "outputs": [],
      "source": [
        "from typing import Dict, TypedDict\n",
        "from langgraph.graph import StateGraph,START, END\n",
        "from langchain_core.prompts import ChatPromptTemplate\n",
        "from IPython.display import display, Image\n",
        "from langchain_core.runnables.graph import MermaidDrawMethod\n",
        "from dotenv import load_dotenv\n",
        "from langchain_google_genai import ChatGoogleGenerativeAI\n",
        "import os\n",
        "from google.colab import userdata\n",
        "import google.generativeai as genai"
      ]
    },
    {
      "cell_type": "markdown",
      "source": [
        "# **Cell 3: Configure the API Key**\n",
        "Set up the GEMINI API key to use Google's Generative AI models."
      ],
      "metadata": {
        "id": "q6jxb6SI3qtG"
      }
    },
    {
      "cell_type": "code",
      "source": [
        "# Configure the GEMINI API key\n",
        "GEMINI_API_KEY = userdata.get(\"GEMINI_API_KEY\")\n",
        "\n",
        "# Alternatively, load the API key from .env file if not using Google Colab\n",
        "# load_dotenv()\n",
        "# GEMINI_API_KEY = os.getenv(\"GEMINI_API_KEY\")\n",
        "\n",
        "# Configure genai library with the API key\n",
        "genai.configure(api_key=GEMINI_API_KEY)\n"
      ],
      "metadata": {
        "id": "aexJm-D55JRd"
      },
      "execution_count": 3,
      "outputs": []
    },
    {
      "cell_type": "markdown",
      "source": [
        "# **4: Define the State Class**\n",
        "Define the State class to store the current state of each workflow process step."
      ],
      "metadata": {
        "id": "gMyDWTvd30m6"
      }
    },
    {
      "cell_type": "code",
      "source": [
        "class State(TypedDict):\n",
        "    query: str\n",
        "    category: str\n",
        "    sentiment: str\n",
        "    response: str\n"
      ],
      "metadata": {
        "id": "GQhcwRKM5SCm"
      },
      "execution_count": 80,
      "outputs": []
    },
    {
      "cell_type": "markdown",
      "source": [
        "# **5: Define the Node Function**"
      ],
      "metadata": {
        "id": "4nBYLiR639to"
      }
    },
    {
      "cell_type": "code",
      "source": [
        "def categories_query(state: State) -> State:\n",
        "    prompt = ChatPromptTemplate.from_template(\n",
        "        \"Categorize the following customer query into one of these categories: \"\n",
        "        \"Technical, Billing, General, Sales, Returns, Shipping, Account Management. Query: {query}\"\n",
        "    )\n",
        "    chain = prompt | ChatGoogleGenerativeAI(model=\"gemini-1.5-flash\",\n",
        "                                            google_api_key=GEMINI_API_KEY)\n",
        "    category = chain.invoke({\"query\": state[\"query\"]}).content\n",
        "    return {\"category\": category.strip()}\n",
        "\n",
        "def sentiment_of_query(state: State) -> State:\n",
        "  prompt = ChatPromptTemplate.from_template(\n",
        "      \"Analyze the sentiment of the following customer query. \"\n",
        "        \"Respond with either 'Positive', 'Neutral', or 'Negative'. Query: {query}\"\n",
        "  )\n",
        "  chain = prompt | ChatGoogleGenerativeAI(model=\"gemini-1.5-flash\",\n",
        "    google_api_key=GEMINI_API_KEY)\n",
        "  sentiment = chain.invoke({\"query\": state[\"query\"]}).content\n",
        "  return {\"sentiment\": sentiment}\n",
        "\n",
        "def technical_query(state: State) -> State:\n",
        "  prompt = ChatPromptTemplate.from_template(\n",
        "      \"Provide a technical support response to the following query: {query}\"\n",
        "  )\n",
        "  chain = prompt | ChatGoogleGenerativeAI(model=\"gemini-1.5-flash\",\n",
        "    google_api_key=GEMINI_API_KEY)\n",
        "  technical = chain.invoke({\"query\": state[\"query\"]}).content\n",
        "  return {\"response\": technical}\n",
        "\n",
        "\n",
        "def billing_query(state: State) -> State:\n",
        "  prompt = ChatPromptTemplate.from_template(\n",
        "      \"Provide a billing support response to the following query: {query}\"\n",
        "  )\n",
        "  chain = prompt | ChatGoogleGenerativeAI(model=\"gemini-1.5-flash\",\n",
        "    google_api_key=GEMINI_API_KEY)\n",
        "  billing = chain.invoke({\"query\": state[\"query\"]}).content\n",
        "  return {\"response\": billing}\n",
        "\n",
        "def sales_query(state: State) -> State:\n",
        "  prompt = ChatPromptTemplate.from_template(\n",
        "      \"Provide a sales support response to the following query: {query}\"\n",
        "  )\n",
        "  chain = prompt | ChatGoogleGenerativeAI(model=\"gemini-1.5-flash\",\n",
        "    google_api_key=GEMINI_API_KEY)\n",
        "  sales = chain.invoke({\"query\": state[\"query\"]}).content\n",
        "  return {\"response\": sales}\n",
        "\n",
        "def returns_query(state: State) -> State:\n",
        "  prompt = ChatPromptTemplate.from_template(\n",
        "      \"Provide a returns support response to the following query: {query}\"\n",
        "  )\n",
        "  chain = prompt | ChatGoogleGenerativeAI(model=\"gemini-1.5-flash\",\n",
        "    google_api_key=GEMINI_API_KEY)\n",
        "  returns = chain.invoke({\"query\": state[\"query\"]}).content\n",
        "  return {\"response\": returns}\n",
        "\n",
        "def shipping_query(state: State) -> State:\n",
        "  prompt = ChatPromptTemplate.from_template(\n",
        "      \"Provide a shipping support response to the following query: {query}\"\n",
        "  )\n",
        "  chain = prompt | ChatGoogleGenerativeAI(model=\"gemini-1.5-flash\",\n",
        "    google_api_key=GEMINI_API_KEY)\n",
        "  shipping = chain.invoke({\"query\": state[\"query\"]}).content\n",
        "  return {\"response\": shipping}\n",
        "\n",
        "def account_management_query(state: State) -> State:\n",
        "  prompt = ChatPromptTemplate.from_template(\n",
        "      \"Provide a account_management_query support response to the following query: {query}\"\n",
        "  )\n",
        "  chain = prompt | ChatGoogleGenerativeAI(model=\"gemini-1.5-flash\",\n",
        "    google_api_key=GEMINI_API_KEY)\n",
        "  account_management_query = chain.invoke({\"query\": state[\"query\"]}).content\n",
        "  return {\"response\": account_management_query}\n",
        "\n",
        "\n",
        "\n",
        "def general_query(state:State) -> State:\n",
        "  prompt = ChatPromptTemplate.from_template(\n",
        "      \"Provide a general support response to the following query: {query}\"\n",
        "  )\n",
        "  chain = prompt | ChatGoogleGenerativeAI(model=\"gemini-1.5-flash\",\n",
        "    google_api_key=GEMINI_API_KEY)\n",
        "  general = chain.invoke({\"query\": state[\"query\"]}).content\n",
        "  return {\"response\": general}\n",
        "\n",
        "def escalate_query(state:State) -> State:\n",
        "    return {\"response\": \"This query has been escalated to a human agent due to its negative sentiment.\"}\n",
        "\n",
        "\n",
        "\n",
        "def route_query(state: State) -> str:\n",
        "    \"\"\"Route the query based on its sentiment and category.\"\"\"\n",
        "    category = state[\"category\"].strip().lower()\n",
        "    sentiment = state[\"sentiment\"].strip().lower()\n",
        "\n",
        "    if sentiment == \"negative\":\n",
        "        return \"Escalate\"\n",
        "    elif category == \"technical\":\n",
        "        return \"Technical\"\n",
        "    elif category == \"billing\":\n",
        "        return \"Billing\"\n",
        "    elif category == \"sales\":\n",
        "        return \"Sales\"\n",
        "    elif category == \"returns\":\n",
        "        return \"Returns\"\n",
        "    elif category == \"shipping\":\n",
        "        return \"Shipping\"\n",
        "    elif category == \"account management\":\n",
        "        return \"AccountManagement\"\n",
        "    else:\n",
        "        return \"General\"\n"
      ],
      "metadata": {
        "id": "AxWwjWK37dQY"
      },
      "execution_count": 122,
      "outputs": []
    },
    {
      "cell_type": "markdown",
      "source": [
        "# **6: Build the Workflow Graph**\n",
        "Build the workflow graph using the StateGraph to link the various steps."
      ],
      "metadata": {
        "id": "cBse5Fi54IyO"
      }
    },
    {
      "cell_type": "code",
      "source": [
        "workflow = StateGraph(State)\n",
        "workflow.add_node(\"Categorization\",categories_query)\n",
        "workflow.add_node(\"Sentiment\",sentiment_of_query)\n",
        "workflow.add_node(\"Technical\",technical_query)\n",
        "workflow.add_node(\"Billing\",billing_query)\n",
        "workflow.add_node(\"General\",general_query)\n",
        "workflow.add_node(\"Escalate\",escalate_query)\n",
        "workflow.add_node(\"Sales\", sales_query)\n",
        "workflow.add_node(\"Returns\", returns_query)\n",
        "workflow.add_node(\"Shipping\", shipping_query)\n",
        "workflow.add_node(\"AccountManagement\", account_management_query)\n",
        "\n",
        "workflow.add_edge(START,\"Categorization\")\n",
        "workflow.add_edge(\"Categorization\",\"Sentiment\")\n",
        "workflow.add_conditional_edges(\n",
        "    \"Sentiment\", route_query,\n",
        "    {\"Technical\": \"Technical\", \"Billing\": \"Billing\", \"General\": \"General\", \"Escalate\": \"Escalate\",\"Sales\":\"Sales\",\"Returns\":\"Returns\",\"Shipping\":\"Shipping\",\"AccountManagement\":\"AccountManagement\"}\n",
        ")\n",
        "workflow.add_edge(\"Escalate\",END)\n",
        "workflow.add_edge(\"Technical\",END)\n",
        "workflow.add_edge(\"Billing\",END)\n",
        "workflow.add_edge(\"General\",END)\n",
        "workflow.add_edge(\"Sales\", END)\n",
        "workflow.add_edge(\"Returns\", END)\n",
        "workflow.add_edge(\"Shipping\", END)\n",
        "workflow.add_edge(\"AccountManagement\", END)\n"
      ],
      "metadata": {
        "colab": {
          "base_uri": "https://localhost:8080/",
          "height": 345
        },
        "id": "inexBSAMehZX",
        "outputId": "1c222ed2-ca8f-4b43-ada7-5270f020b0eb"
      },
      "execution_count": 124,
      "outputs": [
        {
          "output_type": "display_data",
          "data": {
            "image/jpeg": "[encoded data removed]",
            "text/plain": [
              "<IPython.core.display.Image object>"
            ]
          },
          "metadata": {}
        }
      ]
    },
    {
      "cell_type": "markdown",
      "source": [
        "# **7: Compile and Visualize the Workflow**"
      ],
      "metadata": {
        "id": "i1pE3rty5Ghs"
      }
    },
    {
      "cell_type": "code",
      "source": [
        "# Compile the graph\n",
        "app = workflow.compile()\n",
        "display(Image(app.get_graph().draw_mermaid_png()))"
      ],
      "metadata": {
        "id": "maaCmWad5Wig"
      },
      "execution_count": null,
      "outputs": []
    },
    {
      "cell_type": "markdown",
      "source": [
        "# **8: Define the Function to Run the Agent**"
      ],
      "metadata": {
        "id": "IuvP-BTo5ZNr"
      }
    },
    {
      "cell_type": "code",
      "source": [
        "def run_customer_support(query: str) -> Dict[str, str]:\n",
        "    \"\"\"Process a customer query through the LangGraph workflow.\n",
        "\n",
        "    Args:\n",
        "        query (str): The customer's query\n",
        "\n",
        "    Returns:\n",
        "        Dict[str, str]: A dictionary containing the query's category, sentiment, and response\n",
        "    \"\"\"\n",
        "    results = app.invoke({\"query\": query})\n",
        "    return {\n",
        "        \"category\": results[\"category\"],\n",
        "        \"sentiment\": results[\"sentiment\"],\n",
        "        \"response\": results[\"response\"]\n",
        "    }"
      ],
      "metadata": {
        "id": "uuQTx6DGhSRT"
      },
      "execution_count": 125,
      "outputs": []
    },
    {
      "cell_type": "markdown",
      "source": [
        "# **9: Test the Agent with an Example Query**"
      ],
      "metadata": {
        "id": "Hx3B-HfO5h98"
      }
    },
    {
      "cell_type": "code",
      "source": [
        "query = \"the phone i bought is working can i upgrade it\"\n",
        "result = run_customer_support(query)\n",
        "print(f\"Query: {query}\")\n",
        "print(f\"Category: {result['category']}\")\n",
        "print(f\"Sentiment: {result['sentiment']}\")\n",
        "print(f\"Response: {result['response']}\")\n",
        "print(\"\\n\")\n"
      ],
      "metadata": {
        "id": "hsZkrqt5k0cb"
      },
      "execution_count": null,
      "outputs": []
    }
  ]
}
